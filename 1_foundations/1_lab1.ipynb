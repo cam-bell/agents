{
 "cells": [
  {
   "cell_type": "markdown",
   "metadata": {},
   "source": [
    "# Welcome to the start of your adventure in Agentic AI"
   ]
  },
  {
   "cell_type": "markdown",
   "metadata": {},
   "source": [
    "<table style=\"margin: 0; text-align: left; width:100%\">\n",
    "    <tr>\n",
    "        <td style=\"width: 150px; height: 150px; vertical-align: middle;\">\n",
    "            <img src=\"../assets/stop.png\" width=\"150\" height=\"150\" style=\"display: block;\" />\n",
    "        </td>\n",
    "        <td>\n",
    "            <h2 style=\"color:#ff7800;\">Are you ready for action??</h2>\n",
    "            <span style=\"color:#ff7800;\">Have you completed all the setup steps in the <a href=\"../setup/\">setup</a> folder?<br/>\n",
    "            Have you read the <a href=\"../README.md\">README</a>? Many common questions are answered here!<br/>\n",
    "            Have you checked out the guides in the <a href=\"../guides/01_intro.ipynb\">guides</a> folder?<br/>\n",
    "            Well in that case, you're ready!!\n",
    "            </span>\n",
    "        </td>\n",
    "    </tr>\n",
    "</table>"
   ]
  },
  {
   "cell_type": "markdown",
   "metadata": {},
   "source": [
    "<table style=\"margin: 0; text-align: left; width:100%\">\n",
    "    <tr>\n",
    "        <td style=\"width: 150px; height: 150px; vertical-align: middle;\">\n",
    "            <img src=\"../assets/tools.png\" width=\"150\" height=\"150\" style=\"display: block;\" />\n",
    "        </td>\n",
    "        <td>\n",
    "            <h2 style=\"color:#00bfff;\">This code is a live resource - keep an eye out for my updates</h2>\n",
    "            <span style=\"color:#00bfff;\">I push updates regularly. As people ask questions or have problems, I add more examples and improve explanations. As a result, the code below might not be identical to the videos, as I've added more steps and better comments. Consider this like an interactive book that accompanies the lectures.<br/><br/>\n",
    "            I try to send emails regularly with important updates related to the course. You can find this in the 'Announcements' section of Udemy in the left sidebar. You can also choose to receive my emails via your Notification Settings in Udemy. I'm respectful of your inbox and always try to add value with my emails!\n",
    "            </span>\n",
    "        </td>\n",
    "    </tr>\n",
    "</table>"
   ]
  },
  {
   "cell_type": "markdown",
   "metadata": {},
   "source": [
    "### And please do remember to contact me if I can help\n",
    "\n",
    "And I love to connect: https://www.linkedin.com/in/eddonner/\n",
    "\n",
    "\n",
    "### New to Notebooks like this one? Head over to the guides folder!\n",
    "\n",
    "Just to check you've already added the Python and Jupyter extensions to Cursor, if not already installed:\n",
    "- Open extensions (View >> extensions)\n",
    "- Search for python, and when the results show, click on the ms-python one, and Install it if not already installed\n",
    "- Search for jupyter, and when the results show, click on the Microsoft one, and Install it if not already installed  \n",
    "Then View >> Explorer to bring back the File Explorer.\n",
    "\n",
    "And then:\n",
    "1. Click where it says \"Select Kernel\" near the top right, and select the option called `.venv (Python 3.12.9)` or similar, which should be the first choice or the most prominent choice. You may need to choose \"Python Environments\" first.\n",
    "2. Click in each \"cell\" below, starting with the cell immediately below this text, and press Shift+Enter to run\n",
    "3. Enjoy!\n",
    "\n",
    "After you click \"Select Kernel\", if there is no option like `.venv (Python 3.12.9)` then please do the following:  \n",
    "1. On Mac: From the Cursor menu, choose Settings >> VS Code Settings (NOTE: be sure to select `VSCode Settings` not `Cursor Settings`);  \n",
    "On Windows PC: From the File menu, choose Preferences >> VS Code Settings(NOTE: be sure to select `VSCode Settings` not `Cursor Settings`)  \n",
    "2. In the Settings search bar, type \"venv\"  \n",
    "3. In the field \"Path to folder with a list of Virtual Environments\" put the path to the project root, like C:\\Users\\username\\projects\\agents (on a Windows PC) or /Users/username/projects/agents (on Mac or Linux).  \n",
    "And then try again.\n",
    "\n",
    "Having problems with missing Python versions in that list? Have you ever used Anaconda before? It might be interferring. Quit Cursor, bring up a new command line, and make sure that your Anaconda environment is deactivated:    \n",
    "`conda deactivate`  \n",
    "And if you still have any problems with conda and python versions, it's possible that you will need to run this too:  \n",
    "`conda config --set auto_activate_base false`  \n",
    "and then from within the Agents directory, you should be able to run `uv python list` and see the Python 3.12 version."
   ]
  },
  {
   "cell_type": "code",
   "execution_count": 1,
   "metadata": {},
   "outputs": [],
   "source": [
    "# First let's do an import. If you get an Import Error, double check that your Kernel is correct..\n",
    "\n",
    "from dotenv import load_dotenv\n"
   ]
  },
  {
   "cell_type": "code",
   "execution_count": 2,
   "metadata": {},
   "outputs": [
    {
     "data": {
      "text/plain": [
       "True"
      ]
     },
     "execution_count": 2,
     "metadata": {},
     "output_type": "execute_result"
    }
   ],
   "source": [
    "# Next it's time to load the API keys into environment variables\n",
    "# If this returns false, see the next cell!\n",
    "\n",
    "load_dotenv(override=True)"
   ]
  },
  {
   "cell_type": "markdown",
   "metadata": {},
   "source": [
    "### Wait, did that just output `False`??\n",
    "\n",
    "If so, the most common reason is that you didn't save your `.env` file after adding the key! Be sure to have saved.\n",
    "\n",
    "Also, make sure the `.env` file is named precisely `.env` and is in the project root directory (`agents`)\n",
    "\n",
    "By the way, your `.env` file should have a stop symbol next to it in Cursor on the left, and that's actually a good thing: that's Cursor saying to you, \"hey, I realize this is a file filled with secret information, and I'm not going to send it to an external AI to suggest changes, because your keys should not be shown to anyone else.\""
   ]
  },
  {
   "cell_type": "markdown",
   "metadata": {},
   "source": [
    "<table style=\"margin: 0; text-align: left; width:100%\">\n",
    "    <tr>\n",
    "        <td style=\"width: 150px; height: 150px; vertical-align: middle;\">\n",
    "            <img src=\"../assets/stop.png\" width=\"150\" height=\"150\" style=\"display: block;\" />\n",
    "        </td>\n",
    "        <td>\n",
    "            <h2 style=\"color:#ff7800;\">Final reminders</h2>\n",
    "            <span style=\"color:#ff7800;\">1. If you're not confident about Environment Variables or Web Endpoints / APIs, please read Topics 3 and 5 in this <a href=\"../guides/04_technical_foundations.ipynb\">technical foundations guide</a>.<br/>\n",
    "            2. If you want to use AIs other than OpenAI, like Gemini, DeepSeek or Ollama (free), please see the first section in this <a href=\"../guides/09_ai_apis_and_ollama.ipynb\">AI APIs guide</a>.<br/>\n",
    "            3. If you ever get a Name Error in Python, you can always fix it immediately; see the last section of this <a href=\"../guides/06_python_foundations.ipynb\">Python Foundations guide</a> and follow both tutorials and exercises.<br/>\n",
    "            </span>\n",
    "        </td>\n",
    "    </tr>\n",
    "</table>"
   ]
  },
  {
   "cell_type": "code",
   "execution_count": 3,
   "metadata": {},
   "outputs": [
    {
     "name": "stdout",
     "output_type": "stream",
     "text": [
      "OpenAI API Key exists and begins sk-proj-\n"
     ]
    }
   ],
   "source": [
    "# Check the key - if you're not using OpenAI, check whichever key you're using! Ollama doesn't need a key.\n",
    "\n",
    "import os\n",
    "openai_api_key = os.getenv('OPENAI_API_KEY')\n",
    "\n",
    "if openai_api_key:\n",
    "    print(f\"OpenAI API Key exists and begins {openai_api_key[:8]}\")\n",
    "else:\n",
    "    print(\"OpenAI API Key not set - please head to the troubleshooting guide in the setup folder\")\n",
    "    \n"
   ]
  },
  {
   "cell_type": "code",
   "execution_count": 4,
   "metadata": {},
   "outputs": [],
   "source": [
    "# And now - the all important import statement\n",
    "# If you get an import error - head over to troubleshooting in the Setup folder\n",
    "# Even for other LLM providers like Gemini, you still use this OpenAI import - see Guide 9 for why\n",
    "\n",
    "from openai import OpenAI"
   ]
  },
  {
   "cell_type": "code",
   "execution_count": 5,
   "metadata": {},
   "outputs": [],
   "source": [
    "# And now we'll create an instance of the OpenAI class\n",
    "# If you're not sure what it means to create an instance of a class - head over to the guides folder (guide 6)!\n",
    "# If you get a NameError - head over to the guides folder (guide 6)to learn about NameErrors - always instantly fixable\n",
    "# If you're not using OpenAI, you just need to slightly modify this - precise instructions are in the AI APIs guide (guide 9)\n",
    "\n",
    "openai = OpenAI()"
   ]
  },
  {
   "cell_type": "code",
   "execution_count": 6,
   "metadata": {},
   "outputs": [],
   "source": [
    "# Create a list of messages in the familiar OpenAI format\n",
    "\n",
    "messages = [{\"role\": \"user\", \"content\": \"What is 2+2?\"}]"
   ]
  },
  {
   "cell_type": "code",
   "execution_count": 7,
   "metadata": {},
   "outputs": [
    {
     "name": "stdout",
     "output_type": "stream",
     "text": [
      "2 + 2 equals 4.\n"
     ]
    }
   ],
   "source": [
    "# And now call it! Any problems, head to the troubleshooting guide\n",
    "# This uses GPT 4.1 nano, the incredibly cheap model\n",
    "# The APIs guide (guide 9) has exact instructions for using even cheaper or free alternatives to OpenAI\n",
    "# If you get a NameError, head to the guides folder (guide 6) to learn about NameErrors - always instantly fixable\n",
    "\n",
    "response = openai.chat.completions.create(\n",
    "    model=\"gpt-4.1-nano\",\n",
    "    messages=messages\n",
    ")\n",
    "\n",
    "print(response.choices[0].message.content)\n"
   ]
  },
  {
   "cell_type": "code",
   "execution_count": 8,
   "metadata": {},
   "outputs": [],
   "source": [
    "# And now - let's ask for a question:\n",
    "\n",
    "question = \"Please propose a hard, challenging question to assess someone's IQ. Respond only with the question.\"\n",
    "messages = [{\"role\": \"user\", \"content\": question}]\n"
   ]
  },
  {
   "cell_type": "code",
   "execution_count": 9,
   "metadata": {},
   "outputs": [
    {
     "name": "stdout",
     "output_type": "stream",
     "text": [
      "A bat and a ball cost $1.10 in total. The bat costs $1.00 more than the ball. How much does the ball cost?\n"
     ]
    }
   ],
   "source": [
    "# ask it - this uses GPT 4.1 mini, still cheap but more powerful than nano\n",
    "\n",
    "response = openai.chat.completions.create(\n",
    "    model=\"gpt-4.1-mini\",\n",
    "    messages=messages\n",
    ")\n",
    "\n",
    "question = response.choices[0].message.content\n",
    "\n",
    "print(question)\n"
   ]
  },
  {
   "cell_type": "code",
   "execution_count": 10,
   "metadata": {},
   "outputs": [],
   "source": [
    "# form a new messages list\n",
    "messages = [{\"role\": \"user\", \"content\": question}]\n"
   ]
  },
  {
   "cell_type": "code",
   "execution_count": 11,
   "metadata": {},
   "outputs": [
    {
     "name": "stdout",
     "output_type": "stream",
     "text": [
      "Let's denote the cost of the ball as \\( x \\) dollars.\n",
      "\n",
      "According to the problem:\n",
      "- The bat costs \\( x + 1.00 \\) dollars.\n",
      "- The total cost of bat and ball is \\( 1.10 \\) dollars.\n",
      "\n",
      "So, we can write the equation:\n",
      "\\[\n",
      "x + (x + 1.00) = 1.10\n",
      "\\]\n",
      "\n",
      "Simplify:\n",
      "\\[\n",
      "2x + 1.00 = 1.10\n",
      "\\]\n",
      "\n",
      "Subtract 1.00 from both sides:\n",
      "\\[\n",
      "2x = 0.10\n",
      "\\]\n",
      "\n",
      "Divide both sides by 2:\n",
      "\\[\n",
      "x = 0.05\n",
      "\\]\n",
      "\n",
      "**Answer:** The ball costs **5 cents**.\n"
     ]
    }
   ],
   "source": [
    "# Ask it again\n",
    "\n",
    "response = openai.chat.completions.create(\n",
    "    model=\"gpt-4.1-mini\",\n",
    "    messages=messages\n",
    ")\n",
    "\n",
    "answer = response.choices[0].message.content\n",
    "print(answer)\n"
   ]
  },
  {
   "cell_type": "code",
   "execution_count": 12,
   "metadata": {},
   "outputs": [
    {
     "data": {
      "text/markdown": [
       "Let's denote the cost of the ball as \\( x \\) dollars.\n",
       "\n",
       "According to the problem:\n",
       "- The bat costs \\( x + 1.00 \\) dollars.\n",
       "- The total cost of bat and ball is \\( 1.10 \\) dollars.\n",
       "\n",
       "So, we can write the equation:\n",
       "\\[\n",
       "x + (x + 1.00) = 1.10\n",
       "\\]\n",
       "\n",
       "Simplify:\n",
       "\\[\n",
       "2x + 1.00 = 1.10\n",
       "\\]\n",
       "\n",
       "Subtract 1.00 from both sides:\n",
       "\\[\n",
       "2x = 0.10\n",
       "\\]\n",
       "\n",
       "Divide both sides by 2:\n",
       "\\[\n",
       "x = 0.05\n",
       "\\]\n",
       "\n",
       "**Answer:** The ball costs **5 cents**."
      ],
      "text/plain": [
       "<IPython.core.display.Markdown object>"
      ]
     },
     "metadata": {},
     "output_type": "display_data"
    }
   ],
   "source": [
    "from IPython.display import Markdown, display\n",
    "\n",
    "display(Markdown(answer))\n",
    "\n"
   ]
  },
  {
   "cell_type": "markdown",
   "metadata": {},
   "source": [
    "# Congratulations!\n",
    "\n",
    "That was a small, simple step in the direction of Agentic AI, with your new environment!\n",
    "\n",
    "Next time things get more interesting..."
   ]
  },
  {
   "cell_type": "markdown",
   "metadata": {},
   "source": [
    "<table style=\"margin: 0; text-align: left; width:100%\">\n",
    "    <tr>\n",
    "        <td style=\"width: 150px; height: 150px; vertical-align: middle;\">\n",
    "            <img src=\"../assets/exercise.png\" width=\"150\" height=\"150\" style=\"display: block;\" />\n",
    "        </td>\n",
    "        <td>\n",
    "            <h2 style=\"color:#ff7800;\">Exercise</h2>\n",
    "            <span style=\"color:#ff7800;\">Now try this commercial application:<br/>\n",
    "            First ask the LLM to pick a business area that might be worth exploring for an Agentic AI opportunity.<br/>\n",
    "            Then ask the LLM to present a pain-point in that industry - something challenging that might be ripe for an Agentic solution.<br/>\n",
    "            Finally have 3 third LLM call propose the Agentic AI solution. <br/>\n",
    "            We will cover this at up-coming labs, so don't worry if you're unsure.. just give it a try!\n",
    "            </span>\n",
    "        </td>\n",
    "    </tr>\n",
    "</table>"
   ]
  },
  {
   "cell_type": "code",
   "execution_count": 14,
   "metadata": {},
   "outputs": [
    {
     "data": {
      "text/markdown": [
       "## Business Idea\n",
       "One promising business area for an Agentic AI opportunity is **Personalized Healthcare Management**.\n",
       "\n",
       "### Why Personalized Healthcare Management?\n",
       "Agentic AI—AI systems capable of autonomous decision-making and proactive behavior—can transform how individuals manage their health by providing tailored advice, proactively scheduling appointments, managing medication, and even detecting early symptoms of diseases based on real-time data.\n",
       "\n",
       "### Potential Agentic AI Applications in this Area:\n",
       "- **Continuous Health Monitoring:** AI agents could autonomously track biometric data from wearables and lifestyle inputs to detect anomalies or signs of potential health issues.\n",
       "- **Personalized Treatment Plans:** By analyzing medical history, genetics, and current health data, AI could dynamically adjust recommendations or suggest interventions.\n",
       "- **Medication Management:** Autonomous reminders, prescription refills, and cross-checking interactions or side effects without needing constant user input.\n",
       "- **Scheduling & Coordination:** Automatically booking doctor appointments, arranging lab tests, or coordinating care among multiple specialists.\n",
       "- **Mental Health Support:** Proactive engagement through conversational AI, detecting mood changes and suggesting coping mechanisms or alerting caregivers if needed.\n",
       "\n",
       "### Market Impact\n",
       "Healthcare is a large, complex, and personalized industry where individual needs differ significantly. Agentic AI can add real value by delivering hyper-personalized, autonomous assistance that improves outcomes, reduces costs, and enhances patient engagement.\n",
       "\n",
       "---\n",
       "\n",
       "If you want, I can also help brainstorm specific business models or technical approaches in this area!\n",
       "\n",
       "## Pain-Point\n",
       "A significant pain-point in Personalized Healthcare Management that seems particularly ripe for an Agentic AI solution is **Medication Non-Adherence**.\n",
       "\n",
       "### Why Medication Non-Adherence?\n",
       "Medication non-adherence (patients not taking their prescribed medications correctly or at all) is a widespread problem that leads to poorer health outcomes, increased hospitalizations, and skyrocketing healthcare costs. Causes include forgetting doses, misunderstanding instructions, side effects, or complex medication regimens.\n",
       "\n",
       "### How Agentic AI Can Address This Pain-Point:\n",
       "- **Autonomous Monitoring & Reminders:** The AI agent can monitor medication schedules in real time, proactively reminding patients exactly when and how to take each dose.\n",
       "- **Adaptive Scheduling:** If a patient needs to delay or skip a dose for any reason, the AI can adapt the schedule dynamically and alert healthcare providers if necessary.\n",
       "- **Side Effect Management:** By analyzing data from patient inputs and wearable sensors, the AI can detect early signs of adverse effects and notify patients or doctors.\n",
       "- **Automated Prescription Refills & Coordination:** The agent can autonomously coordinate with pharmacies and healthcare providers to manage timely refills and prevent interruptions.\n",
       "- **Personalized Engagement:** Using conversational AI, it can engage patients empathetically, understanding reasons for non-adherence and providing tailored motivational support or education.\n",
       "\n",
       "This pain point is critical because improved medication adherence directly correlates with better clinical outcomes and reduced costs, making it a high-impact target for agentic AI innovation. Would you like me to help brainstorm a detailed product concept or business model around this?\n",
       "\n",
       "## Agentic AI Solution\n",
       "Certainly! Here's a detailed **Agentic AI solution** concept targeting **Medication Non-Adherence** within Personalized Healthcare Management.\n",
       "\n",
       "---\n",
       "\n",
       "## Agentic AI Solution: MedAdhereAI — Autonomous Medication Adherence Manager\n",
       "\n",
       "### Overview\n",
       "MedAdhereAI is an intelligent, autonomous AI agent designed to comprehensively manage and improve medication adherence for patients with complex or chronic treatments. It integrates with wearable devices, EHRs (electronic health records), pharmacy systems, and user inputs to provide personalized, proactive, and adaptive medication management—reducing missed doses, minimizing side effects, and improving overall health outcomes.\n",
       "\n",
       "---\n",
       "\n",
       "### Core Capabilities\n",
       "\n",
       "#### 1. **Real-Time Medication Monitoring & Intelligent Reminders**\n",
       "- Continuously tracks patient’s prescribed medication schedules from EHR or pharmacy data.\n",
       "- Uses smartphone, smartwatch, or IoT-enabled pill dispensers to detect medication intake.\n",
       "- Sends timely, context-aware reminders (e.g., via push notifications, voice assistants, or SMS).\n",
       "- Adaptive reminder frequency and channels based on user behavior and preferences (e.g., more frequent alerts for consistently missed doses, gentle nudges when adherence is good).\n",
       "\n",
       "#### 2. **Dynamic Dose Scheduling & Adjustment**\n",
       "- Allows patients to report legitimate delays, misses, or dose changes via conversational AI interface.\n",
       "- Automatically recalculates and adjusts the medication schedule within clinical safety boundaries.\n",
       "- Communicates any significant changes or concerns to healthcare providers promptly for approval or intervention.\n",
       "\n",
       "#### 3. **Side Effect & Interaction Monitoring**\n",
       "- Continuously collects self-reported symptoms through daily check-ins and monitors biometric data (heart rate, blood pressure, temperature) via wearables.\n",
       "- Uses NLP and pattern recognition to identify early warning signs of adverse drug reactions or dangerous interactions.\n",
       "- Alerts patients and healthcare providers in real-time to prevent complications or prompt timely clinical review.\n",
       "\n",
       "#### 4. **Automated Prescription Management**\n",
       "- Integrates with pharmacy systems to monitor prescription status and refill needs.\n",
       "- Automatically requests and schedules prescription refills before running out.\n",
       "- Coordinates with caregivers or delivery services to ensure timely medication availability.\n",
       "\n",
       "#### 5. **Empathetic Conversational AI Engagement**\n",
       "- Uses AI-powered chatbots tailored to the individual's communication style and literacy level.\n",
       "- Provides personalized education about medications (purpose, side effects, importance of adherence).\n",
       "- Discusses potential barriers to adherence empathetically (e.g., forgetfulness, side effects, costs) and offers tailored motivational support or connects to social services if needed.\n",
       "\n",
       "#### 6. **Care Team Collaboration Platform**\n",
       "- Shares summarized reports with doctors, pharmacists, and caregivers with patient consent.\n",
       "- Enables secure messaging and intervention triggers if adherence drops or side effects escalate.\n",
       "- Supports telemedicine integrations for virtual check-ups or medication counseling.\n",
       "\n",
       "---\n",
       "\n",
       "### User Journey Example\n",
       "\n",
       "- Sarah, a 65-year-old patient with hypertension and diabetes, uses MedAdhereAI.\n",
       "- After her doctor prescribes a new medication, MedAdhereAI imports the schedule.\n",
       "- The AI agent reminds Sarah to take her meds on time using her preferred voice assistant.\n",
       "- Sarah reports mild dizziness; MedAdhereAI flags this as a potential side effect and asks follow-up questions.\n",
       "- The agent alerts her physician, who adjusts her dose remotely.\n",
       "- When Sarah’s prescription is running low, MedAdhereAI requests a refill and arranges home delivery.\n",
       "- Over time, Sarah feels supported and gains confidence in managing her treatment.\n",
       "\n",
       "---\n",
       "\n",
       "### Technical Architecture (High-Level)\n",
       "\n",
       "- **Data Integration Layer:** Connects to EHR APIs, pharmacy databases (FHIR standards), wearable device SDKs.\n",
       "- **AI Core:** Combines rule-based medical guidelines with machine learning for anomaly detection, NLP for understanding patient inputs, and reinforcement learning to personalize reminders and interventions.\n",
       "- **Conversational Interface:** Multi-modal chat interface accessible via mobile app, smart speakers, and SMS.\n",
       "- **Security & Compliance:** HIPAA-compliant data handling, end-to-end encryption, role-based access control.\n",
       "- **Cloud Backend:** Scalable, real-time processing with analytics dashboard for clinicians.\n",
       "\n",
       "---\n",
       "\n",
       "### Business Model Ideas\n",
       "\n",
       "- **B2B SaaS:** Sell MedAdhereAI platform subscriptions to healthcare providers, insurance companies, or pharmacies who offer it as part of patient care programs.\n",
       "- **Payor Partnerships:** Collaborate with insurers for value-based care contracts focused on reducing hospitalizations due to non-adherence.\n",
       "- **Direct-to-Consumer Freemium:** Offer a basic app for free with premium personalized services or caregiver coordination features for a monthly fee.\n",
       "- **Data Insights & Research:** Aggregate anonymized adherence data for pharma companies and researchers to improve medication regimens and develop new adherence interventions.\n",
       "\n",
       "---\n",
       "\n",
       "### Summary\n",
       "\n",
       "**MedAdhereAI empowers patients and healthcare providers by autonomously managing medication adherence with personalized, proactive, and empathetic AI support.** This significantly reduces medication errors, improves health outcomes, and lowers healthcare costs. It leverages the full potential of agentic AI—autonomous decision-making, real-time adaptation, and proactive care coordination—in one focused, mission-critical healthcare application.\n",
       "\n",
       "---\n",
       "\n",
       "Would you like help outlining a go-to-market strategy, technical development roadmap, or investment pitch next?"
      ],
      "text/plain": [
       "<IPython.core.display.Markdown object>"
      ]
     },
     "metadata": {},
     "output_type": "display_data"
    }
   ],
   "source": [
    "# First create the messages:\n",
    "\n",
    "messages = [{\"role\": \"user\", \"content\": \"Pick a business area that might be worth exploring for an Agentic AI opportunity.\"}]\n",
    "\n",
    "# Then make the first call:\n",
    "\n",
    "response = openai.chat.completions.create(\n",
    "    model=\"gpt-4.1-mini\",\n",
    "    messages=messages\n",
    ")\n",
    "\n",
    "# Then read the business idea:\n",
    "\n",
    "business_idea = response.choices[0].message.content\n",
    "\n",
    "# And repeat! In the next message, include the business idea within the message\n",
    "messages = [{\"role\": \"user\", \"content\": f\"Here's the business idea: {business_idea}. Now pick a pain-point in that industry - something challenging that might be ripe for an Agentic AI solution.\"}]\n",
    "\n",
    "# Then make the second call:\n",
    "\n",
    "response = openai.chat.completions.create(\n",
    "    model=\"gpt-4.1-mini\",\n",
    "    messages=messages   \n",
    ")\n",
    "\n",
    "# Then read the pain-point:\n",
    "\n",
    "pain_point = response.choices[0].message.content\n",
    "\n",
    "# Now ask the LLM to propose the Agentic AI solution:\n",
    "\n",
    "messages = [{\"role\": \"user\", \"content\": f\"Here's the business idea: {business_idea}. Here's the pain-point: {pain_point}. Now propose the Agentic AI solution.\"}]\n",
    "\n",
    "response = openai.chat.completions.create(\n",
    "    model=\"gpt-4.1-mini\",\n",
    "    messages=messages\n",
    ")\n",
    "\n",
    "# Then read the Agentic AI solution:\n",
    "\n",
    "agentic_ai_solution = response.choices[0].message.content\n",
    "\n",
    "# Now display the results:\n",
    "\n",
    "display(Markdown(f\"## Business Idea\\n{business_idea}\\n\\n## Pain-Point\\n{pain_point}\\n\\n## Agentic AI Solution\\n{agentic_ai_solution}\"))\n",
    "\n",
    "# Congratulations!\n",
    "\n",
    "# You've just created your first Agentic AI solution!"
   ]
  },
  {
   "cell_type": "markdown",
   "metadata": {},
   "source": []
  }
 ],
 "metadata": {
  "kernelspec": {
   "display_name": ".venv",
   "language": "python",
   "name": "python3"
  },
  "language_info": {
   "codemirror_mode": {
    "name": "ipython",
    "version": 3
   },
   "file_extension": ".py",
   "mimetype": "text/x-python",
   "name": "python",
   "nbconvert_exporter": "python",
   "pygments_lexer": "ipython3",
   "version": "3.12.9"
  }
 },
 "nbformat": 4,
 "nbformat_minor": 2
}
