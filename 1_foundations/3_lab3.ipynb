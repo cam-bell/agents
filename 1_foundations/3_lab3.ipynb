{
 "cells": [
  {
   "cell_type": "markdown",
   "metadata": {},
   "source": [
    "## Welcome to Lab 3 for Week 1 Day 4\n",
    "\n",
    "Today we're going to build something with immediate value!\n",
    "\n",
    "In the folder `me` I've put a single file `linkedin.pdf` - it's a PDF download of my LinkedIn profile.\n",
    "\n",
    "Please replace it with yours!\n",
    "\n",
    "I've also made a file called `summary.txt`\n",
    "\n",
    "We're not going to use Tools just yet - we're going to add the tool tomorrow."
   ]
  },
  {
   "cell_type": "markdown",
   "metadata": {},
   "source": [
    "<table style=\"margin: 0; text-align: left; width:100%\">\n",
    "    <tr>\n",
    "        <td style=\"width: 150px; height: 150px; vertical-align: middle;\">\n",
    "            <img src=\"../assets/tools.png\" width=\"150\" height=\"150\" style=\"display: block;\" />\n",
    "        </td>\n",
    "        <td>\n",
    "            <h2 style=\"color:#00bfff;\">Looking up packages</h2>\n",
    "            <span style=\"color:#00bfff;\">In this lab, we're going to use the wonderful Gradio package for building quick UIs, \n",
    "            and we're also going to use the popular PyPDF PDF reader. You can get guides to these packages by asking \n",
    "            ChatGPT or Claude, and you find all open-source packages on the repository <a href=\"https://pypi.org\">https://pypi.org</a>.\n",
    "            </span>\n",
    "        </td>\n",
    "    </tr>\n",
    "</table>"
   ]
  },
  {
   "cell_type": "code",
   "execution_count": 5,
   "metadata": {},
   "outputs": [],
   "source": [
    "# If you don't know what any of these packages do - you can always ask ChatGPT for a guide!\n",
    "\n",
    "from dotenv import load_dotenv\n",
    "from openai import OpenAI\n",
    "from pypdf import PdfReader\n",
    "import gradio as gr"
   ]
  },
  {
   "cell_type": "code",
   "execution_count": 6,
   "metadata": {},
   "outputs": [],
   "source": [
    "load_dotenv(override=True)\n",
    "openai = OpenAI()"
   ]
  },
  {
   "cell_type": "code",
   "execution_count": 7,
   "metadata": {},
   "outputs": [
    {
     "name": "stderr",
     "output_type": "stream",
     "text": [
      "Ignoring wrong pointing object 110 0 (offset 0)\n",
      "Ignoring wrong pointing object 113 0 (offset 0)\n",
      "Ignoring wrong pointing object 115 0 (offset 0)\n",
      "Ignoring wrong pointing object 117 0 (offset 0)\n",
      "Ignoring wrong pointing object 119 0 (offset 0)\n",
      "Ignoring wrong pointing object 123 0 (offset 0)\n",
      "Ignoring wrong pointing object 124 0 (offset 0)\n"
     ]
    }
   ],
   "source": [
    "reader = PdfReader(\"me/cameronbell2.pdf\")\n",
    "linkedin = \"\"\n",
    "for page in reader.pages:\n",
    "    text = page.extract_text()\n",
    "    if text:\n",
    "        linkedin += text"
   ]
  },
  {
   "cell_type": "code",
   "execution_count": 8,
   "metadata": {},
   "outputs": [
    {
     "name": "stdout",
     "output_type": "stream",
     "text": [
      "   \n",
      "Contact\n",
      "cameronsobell@gmail.com\n",
      "www.linkedin.com/in/\n",
      "cameronsobell (LinkedIn)\n",
      "Top Skills\n",
      "OpenCV\n",
      "PyTorch\n",
      "TensorFlow\n",
      "Certifications\n",
      "The Complete SQL Bootcamp: Go\n",
      "from Zero to Hero\n",
      "Investment Banking Virtual Reality\n",
      "Intern Experience\n",
      "Fundamentals of FinTech \n",
      "Insurance Essentials, 2nd ed\n",
      "Introduction to Programming Using\n",
      "Python\n",
      "Cameron Bell\n",
      "AI/ML Engineer | Software Developer (AI Focus) | MSc Computer\n",
      "Science at IE University\n",
      "United Kingdom\n",
      "Summary\n",
      "AI/ML Engineer | Software Developer (AI Focus)\n",
      "I build intelligent systems that turn data into actionable insight. With\n",
      "a Master’s in Computer Science & Business Technology from IE\n",
      "University, I combine machine learning, software engineering, and\n",
      "cloud architecture to create scalable, high-impact AI solutions.\n",
      "My work includes:\n",
      "• BHSI Risk Intelligence System - automated D&O renewals\n",
      "using LangChain, RAG, and FastAPI, aligning 80%+ with expert\n",
      "underwriter decisions\n",
      "• Cloud migration & cost analysis platform - NLP + embeddings-\n",
      "based recommendation engine deployed with Supabase, Pinecone,\n",
      "and React\n",
      "• MLOps pipelines and Deep Learning models - YOLOv8,\n",
      "CNNs, LSTMs, and CI/CD pipelines for automation and model\n",
      "reproducibility\n",
      "I’m passionate about designing systems that bridge AI research and\n",
      "production engineering, delivering measurable results, reliability, and\n",
      "real-world value.\n",
      "Open to opportunities in AI / ML Engineering, Data Science, or\n",
      "Software Development. Let’s connect if you’re building something\n",
      "innovative.\n",
      "Experience\n",
      "IE School of Science and Technology\n",
      "10 months\n",
      "Corporate Project – Risk Assessment Tool for D&O Policy Renewals for\n",
      "BHSI\n",
      "April 2025 - July 2025 (4 months)\n",
      "  Page 1 of 5   \n",
      "LangChain | RAG | FastAPI | React.js | GCP | BigQuery | Docker | GitHub\n",
      "Actions\n",
      "- Built an LLM-powered financial risk assessment system automating D&O\n",
      "insurance renewals for BHSI Spain, integrating LangChain + RAG pipelines\n",
      "with semantic search (768-dim embeddings) to generate real-time, evidence-\n",
      "based risk summaries\n",
      "- Developed a full-stack platform (FastAPI + React.js) for entity lookup, news/\n",
      "filing ingestion, and hybrid rule + LLM risk classification, achieving ~80%\n",
      "alignment with underwriter logic\n",
      "- Deployed via GCP with CI/CD (GitHub Actions, Docker) and structured\n",
      "logging, delivering sub-second cached queries and scalable, fault-tolerant\n",
      "pipelines for enterprise use\n",
      "Capstone Project – AI-Powered Cloud Migration & Cost Analysis\n",
      "Platform\n",
      "January 2025 - March 2025 (3 months)\n",
      "FastAPI | Supabase | Pinecone | LangChain | OpenAI | React + TypeScript |\n",
      "Docker | CI/CD\n",
      "- Built an AI-driven cloud migration advisor for SMEs, integrating FastAPI\n",
      "microservices, Supabase backend, and Pinecone vector search to deliver\n",
      "intelligent, evidence-based migration strategies and cost forecasts\n",
      "- Developed an NLP and embedding-based recommendation engine using\n",
      "LangChain + OpenAI embeddings, enabling semantic retrieval and context-\n",
      "aware recommendations for Rehost, Refactor, and Replatform decisions\n",
      "- Architected asynchronous FastAPI services with Supabase data pipelines,\n",
      "Dockerized deployment, and CI/CD automation (GitHub Actions), improving\n",
      "deployment reliability and reducing manual migration planning time by 40%+\n",
      "Datathon Participant – IE Sustainability Datathon 2024\n",
      "October 2024 - December 2024 (3 months)\n",
      "Worked in a cross-functional team to forecast UK energy market prices and\n",
      "volumes using real-world time-series data for EDP.\n",
      "Built and compared time-series models (ARIMA, SARIMA, Prophet)\n",
      "  Page 2 of 5   \n",
      "IE University\n",
      "Tech Venture Bootcamp\n",
      "September 2024 - October 2024 (2 months)\n",
      "Co-founded FinPlan, a Generative AI-powered personal finance MVP that\n",
      "combined market sentiment with user spending insights to explore real-time\n",
      "trading and saving advice\n",
      "United Utilities\n",
      "Innovation Intern\n",
      "August 2022 - September 2022 (2 months)\n",
      "Warrington, England, United Kingdom\n",
      "- Audited and restructured 27+ process maps and guides, driving a 44%\n",
      "improvement in process clarity and consistency\n",
      "- Designed standardised templates that reduced duplication and improved\n",
      "cross-team collaboration\n",
      "Hargreaves Lansdown\n",
      "Financial Advisory Intern\n",
      "June 2022 - July 2022 (2 months)\n",
      "City Of Bristol, England, United Kingdom\n",
      "Streamlined client review reporting (ISAs, SIPPs, funds, and share accounts),\n",
      "improved turnaround ~15%\n",
      "AXA Health\n",
      "Service Advisor\n",
      "March 2021 - November 2021 (9 months)\n",
      "City Of Bristol, England, United Kingdom\n",
      "Resolved high-volume (100s) client queries & designed support workflows with\n",
      "a 95%+ resolution rate\n",
      "Freedom Logistics (Amazon DSP)\n",
      "Fulfillment Associate\n",
      "October 2020 - February 2021 (5 months)\n",
      "Optimized order processing workflow & maintained quality under tight\n",
      "deadlines\n",
      "Bright Network\n",
      "Student Ambassador & Technology/Finance internships\n",
      "June 2020 - August 2020 (3 months)\n",
      "  Page 3 of 5   \n",
      "Managed communication and liaison duties as a Student Ambassador,\n",
      "coordinating outreach campaigns, answering inquiries, and representing\n",
      "internship programs to prospective students\n",
      "Completed three rotational internships in investment banking, finance and\n",
      "professional services, and technology, gaining cross-domain exposure in the\n",
      "financial sector’s tech stack\n",
      "Conducted project-based research, data analysis, and financial modeling;\n",
      "collaborated with domain specialists to deliver reports and insights under tight\n",
      "deadlines.\n",
      "Bermuda Foundation for Insurance Studies\n",
      "Bermuda & Early Experience (Foundational Roles)\n",
      "June 2015 - August 2018 (3 years 3 months)\n",
      "Bermuda\n",
      "Gained early exposure to insurance, risk, and financial operations at Validus\n",
      "Reinsurance (shadowing underwriters, actuaries, claims) and BFIS (Bermuda\n",
      "Foundation for Insurance Studies) - fostering foundational domain awareness\n",
      "relevant to risk and data fields\n",
      "Developed strong customer service, communication, and problem-solving\n",
      "skills in hospitality and education roles (Beach Attendant, BUEI Intern) -\n",
      "interacting with tourists, supporting outreach events, and managing public-\n",
      "facing operations under time constraints\n",
      "Led public speaking and engagement efforts (guided tours, group\n",
      "presentations, marketing outreach), enhancing confidence and the ability to\n",
      "synthesize technical and non-technical content.\n",
      "Education\n",
      "IE School of Science and Technology\n",
      "Master's degree, Computer Science and Business Technology · (September\n",
      "2024 - July 2025)\n",
      "University of Bristol\n",
      "Bachelor's degree, Business Administration and Management,\n",
      "General · (2017 - 2020)\n",
      "  Page 4 of 5   \n",
      "Ardingly College\n",
      "International Baccalaureate  · (2015 - 2017)\n",
      "Warwick Academy\n",
      "I/GCSE's - 4 A*s, 3 A's, 1 B, 1 C  · (2013 - 2015)\n",
      "  Page 5 of 505_Master_CV_Bank.md\n",
      "Cameron Bell\n",
      "London, UK | 44 7428 259933\n",
      "cameronsobell@gmail.com | linkedin.com/in/cameronsobell | github.com/cam-\n",
      "bell | cameron-bell.vercel.app\n",
      "Professional Summary\n",
      "MSc Computer Science & Business Technology graduate skilled in Python, \n",
      "SQL, and JavaScript, with hands-on experience in RESTful APIs, full-stack \n",
      "applications, and cloud deployment AWS, GCP, Azure). Proficient with FastAPI, \n",
      "Flask, React, and CI/CD pipelines GitHub Actions, Docker). Strong collaborator \n",
      "with experience translating technical requirements into user-friendly solutions.\n",
      "Education\n",
      "IE School of Science and Technology                                                                       \n",
      "Madrid, Spain\n",
      "Masters in Computer Science and Business Technology                                     \n",
      "Sep 2024  Jul 2025\n",
      "Leadership: Class Representative, Community Engagement Rep, Tech & \n",
      "Innovation Club Events Officer 2025\n",
      "University of Bristol                                                                                            Bristol, \n",
      "United Kingdom\n",
      "Bachelor of Science, Management                                                                        \n",
      "  Sep 2017  Jul 2020\n",
      "Modules: Project Management, Consultancy Project, The Digital Economy, \n",
      "Strategic Finance\n",
      "Skills\n",
      "Languages and Data tools Python NumPy, Pandas, scikit-learn) · JavaScript / \n",
      "TypeScript · SQL\n",
      "05_Master_CV_Bank.md\n",
      "1AI / ML / LLM TensorFlow · PyTorch · HuggingFace · LangChain · Prompt \n",
      "engineering & Tuning · RAG / Embeddings · OpenAI\n",
      "Backend  API/Web: FastAPI · Flask · React · Node.js\n",
      "Database  Vector / Storage PostgreSQL · BigQuery · Supabase · Pinecone · \n",
      " Redis\n",
      "MLOps, Deployment & Cloud Docker · CI/CD / GitHub Actions · AWS · GCP · \n",
      "Azure · Weights and Biases W&B\n",
      "Major Projects\n",
      "Corporate Project – BHSI Risk Classification System \n",
      "(Berkshire Hathaway Specialty Insurance)                                                   \n",
      "Apr 2025 – Jul 2025\n",
      "LangChain | RAG | FastAPI | React.js | GCP | BigQuery | Docker | GitHub Actions\n",
      "Architected and deployed a production-grade AI risk scoring platform for \n",
      "D&O renewals using LangChain  RAG  embeddings 768-dim), achieving \n",
      "80% alignment with underwriter decisions.\n",
      "Built a full-stack platform FastAPI  React.js  GCP, automating entity \n",
      "lookup, news/filings ingestion, hybrid rule  LLM classification, reducing \n",
      "manual review time across 50 companies.\n",
      "Implemented CI/CD with GitHub Actions, containerized services, structured \n",
      "logging, and error handling to ensure observability, reliability, and \n",
      "maintainability in production environments\n",
      "Natural Language Processing                                                   Apr \n",
      "2025 – Jun 2025\n",
      "Developed a multilingual NLP pipeline combining transformers RoBERTa, \n",
      "BERT and fallback logic to achieve 100% success over 239 reviews with \n",
      "0.80 confidence\n",
      "Built a Streamlit-based app delivering GPT-powered sentiment / emotion / \n",
      "summarization  JSON API exports across 4 platforms with flawless error \n",
      "handling\n",
      "05_Master_CV_Bank.md\n",
      "2Implemented semantic keywording via KeyBERT  LaBSE embeddings, \n",
      "surfacing 19 topics across English/Spanish and enabling cross-platform \n",
      "benchmarking\n",
      "Capstone Project – Cloud Migration & Cost Analysis Tool  \n",
      "Jan 2025  Mar 2025\n",
      "FastAPI | Supabase | Pinecone | LangChain | Python (scikit-learn, Pydantic, \n",
      "asyncio) | OpenAI | React  TypeScript | Docker | CI/CD | NLP | ML Pipelines | \n",
      "Redis\n",
      "Engineered a modular multi-service platform (FastAPI  React  \n",
      "Supabase  Pinecone) that provides AI-driven migration strategy \n",
      "recommendations Rehost  Refactor  Replatform) and predictive cost \n",
      "analysis for SMEs.\n",
      "Developed an NLP and embedding-based recommendation engine using \n",
      "LangChain  OpenAI embeddings, enabling semantic vector retrieval and \n",
      "context-aware migration insights powered by Supabase data pipelines \n",
      "and asynchronous FastAPI endpoints.\n",
      "Architected full-stack microservices for analysis, recommendation, and \n",
      "cost estimation; implemented CI/CD with Dockerized deployment, caching, \n",
      "and real-time analytics dashboards, reducing manual planning effort by \n",
      "40 % and improving forecast accuracy by 25 %.\n",
      "Frontend\n",
      "Built a React  TypeScript frontend with Supabase Auth, real-time \n",
      "FastAPI integration, and interactive dashboards for cloud cost comparison \n",
      "and strategy visualization.\n",
      "Designed responsive UI components (charts, filters, data tables) with \n",
      "dynamic forms, retry states, and PDF/CSV exports, improving stakeholder \n",
      "usability and cross-cloud decision support.\n",
      "Computer Vision\n",
      "Python, PyTorch, OpenCV, YOLOv8/v11, React, FastAPI, Lovable.dev\n",
      "Trained and deployed YOLOv11s object detection models on aerial imagery \n",
      "for swimming pool detection, achieving 95.5% mAP after 30 epochs \n",
      "through transfer learning and dataset augmentation across 288 images.\n",
      "05_Master_CV_Bank.md\n",
      "3Developed a real-time ASL recognition system using YOLOv8, reaching \n",
      "90% mAP0.5, 85.2% precision, and 96.0% validation accuracy on a \n",
      "1,083-image dataset, integrating transfer learning, augmentation, and \n",
      "custom annotations.\n",
      "Built a full-stack educational app (React/TypeScript  FastAPI) featuring a \n",
      "webcam inference pipeline, gamified learning modes, and 75 ms latency \n",
      "13 FPS; deployed on Lovable.dev with structured logging, error \n",
      "handling, and API documentation.\n",
      "Machine Learning Operations (MLOps)\n",
      "MLflow, Hydra, Weights & Biases, Docker, FastAPI, GitHub Actions, Python\n",
      "Developed and orchestrated a 9-step MLOps pipeline for diabetes \n",
      "readmission prediction, modularizing data ingestion, feature engineering, \n",
      "model training, and inference using MLflow, Hydra, and Weights & Biases \n",
      "38 tracked runs) for full reproducibility and versioning.\n",
      "Implemented CI/CD workflows with GitHub Actions, Docker, and FastAPI, \n",
      "enabling real-time /predict endpoints and reducing deployment time from \n",
      "days to minutes while maintaining scalable batch inference and \n",
      "experiment traceability.\n",
      "Engineered robust evaluation and monitoring frameworks 6 metrics, \n",
      "structured logging, automated visualization), transforming a research \n",
      "notebook into a production-grade ML system that improved deployment \n",
      "reliability and collaboration.\n",
      "Machine Learning and Artificial Intelligence\n",
      "Python, scikit-learn, XGBoost, pandas, matplotlib, SMOTE, GridSearchCV\n",
      "Developed, tuned, and benchmarked multiple ML models (Linear, LASSO, \n",
      "Random Forest, XGBoost, KNN) across real-world datasets (housing, \n",
      "churn, diabetes), applying feature engineering, cross-validation, and \n",
      "cost-sensitive learning to achieve up to 93.2% accuracy and 8.2 pp lift \n",
      "over baselines.\n",
      "05_Master_CV_Bank.md\n",
      "4Engineered scalable ML pipelines in Python (scikit-learn, XGBoost) with \n",
      "imputation, scaling, SMOTE, and GridSearchCV; improved model \n",
      "generalization and maintained reproducible performance across 20 K \n",
      "samples.\n",
      "Delivered interpretable business insights, quantifying $15.79 M projected \n",
      "savings and 37% ROI from a Random Forest readmission predictor, \n",
      "integrating feature selection and precision-recall trade-off optimization.\n",
      "Deep Learning\n",
      "TensorFlow, Keras, CNN, LSTM, FaceNet, MTCNN, Flask, React Native, Google \n",
      "Cloud\n",
      "Developed and tuned deep neural networks in TensorFlow/Keras for \n",
      "classification, regression, and sequence modeling; implemented CNN, \n",
      "LSTM, and MLP architectures with regularization, dropout, and transfer \n",
      "learning, improving generalization by 10% over baseline models.\n",
      "Built a one-shot facial recognition system using FaceNet  MTCNN, \n",
      "achieving 90% match accuracy across 7 test subjects with 128D \n",
      "embeddings and threshold-calibrated verification; deployed via Flask \n",
      "Google Cloud)  React Native for real-time mobile identity verification.\n",
      "Engineered a full preprocessing and evaluation pipeline OpenCV, L2 \n",
      "normalization, alignment, EXIF correction) to support low-data inference \n",
      "without retraining, enabling reproducible and lightweight model \n",
      "deployment.\n",
      "Generative AI\n",
      "Developed a GPT4-powered LLM prototype to automate hospital \n",
      "discharge summaries, leveraging retrieval-augmented generation RAG \n",
      "with secure Azure AI Search. Processed 1,000 synthetic patient records in \n",
      "testing\n",
      "Built and deployed a React  Flask full-stack AI application with synthetic \n",
      "patient data, PDF export, CRUD functionality, and GPT4 summarisation \n",
      "Designed ethical workflows to reduce hallucinations, safeguard privacy \n",
      "(HIPAA, GDPR), and embed Responsible AI RAI practices across the AI \n",
      "pipeline.\n",
      "05_Master_CV_Bank.md\n",
      "5Hardened for quality & privacy by enforcing retrieval-only prompting, \n",
      "confidence thresholds, and human-in-the-loop review, and documenting \n",
      "HIPAA/GDPR design considerations (redaction, access control, \n",
      "auditability).\n",
      "Engineered evaluation harness on synthetic patient records to track \n",
      "correctness/coverage and latency; added verification/fallback logic to \n",
      "avoid unverifiable outputs and surface citation gaps.\n",
      "Delivered stakeholder demo & technical docs (architecture, risk controls, \n",
      "ops runbook) and scoped an on-prem/Azure deployment path with key \n",
      "rotation and role-based access.\n",
      "Datathon – Energy Forecasting\n",
      "Nov 2024\n",
      "Built and benchmarked three time-series models ARIMA, \n",
      "SARIMA/SARIMAX, Prophet + exogenous variables) on 118,320 half-hourly \n",
      "observations 6.75 years) using walk-forward validation, reducing error \n",
      "by 47% vs baseline.\n",
      "Integrated Day-Ahead, Intraday, and Balancing market signals to deliver \n",
      "RMSE  £22/MWh System Price) and RMSE  458 MW Net Imbalance \n",
      "Volume) at 30-min cadence, supporting BESS trading strategies.\n",
      "Developed a 48-step (24h) forecasting engine, published full reproducible \n",
      "artifacts (notebooks, CSV outputs, metrics) and a 5-minute executive \n",
      "summary presenting a multi-market BESS strategy with average spread  \n",
      "€189/MWh in the Balancing market\n",
      "Cloud Foundations\n",
      "Group Assignment\n",
      "Designed and deployed multi-service cloud architectures on AWS and \n",
      "Azure, covering storage, database, compute, and security for enterprise-\n",
      "scale use cases.\n",
      "05_Master_CV_Bank.md\n",
      "6Led cost estimation for a scalable analytics solution with the AWS Pricing \n",
      "Calculator, optimizing budget/performance trade-offs 12-month cost: \n",
      "$78.6K.\n",
      "Configured and benchmarked AWS services RDS, Redshift, S3, EC2, \n",
      "CloudFront, Lex), selecting optimal IaaS, PaaS, and serverless components \n",
      "to balance performance and cost.\n",
      "Implemented and secured workloads with VMs, IAM policies, API \n",
      "Gateway, and monitoring tools across AWS and Azure, ensuring scalability \n",
      "and compliance with best practices.\n",
      "Applied cost optimization strategies (multi-AZ deployments, backup \n",
      "policies, utilization analysis, pricing model comparisons) to reduce \n",
      "projected spend and improve resilience.\n",
      "Delivered a consultancy-style presentation simulating a real-world cloud \n",
      "migration pitch, translating technical design HA, DR, security frameworks) \n",
      "into business value for stakeholders.\n",
      "Data Analytics for Decision Making\n",
      "Gapminder Data Analysis Project\n",
      "Conducted exploratory analysis on 1,700 global records Gapminder, \n",
      "19522007, applying regression and clustering to uncover 5 key insights \n",
      "and segment countries into 4 development groups.\n",
      "Final Quiz Data Quality Pipeline)\n",
      "Built an end-to-end data quality pipeline (imputation, outlier removal, \n",
      "scaling/encoding) that reduced dataset missingness from 4.55%  0% \n",
      "(4,797 values), delivering a clean model-ready table.\n",
      "Group Project: Used Car Price Prediction\n",
      "Developed a reproducible price-prediction workflow over 100K vehicle \n",
      "listings, achieving R²  0.50 | MAE  6,047, and visualised key predictors \n",
      "to inform business pricing strategies.\n",
      "Fool Me  Misleading Graph \n",
      "Designed a data ethics case study contrasting manipulated vs. corrected \n",
      "visualisations, producing a peer-reviewed checklist cited by 19 peers as a \n",
      "05_Master_CV_Bank.md\n",
      "7framework for ethical analytics.\n",
      "Professional Experience\n",
      "United Utilities (Water and Wastewater services)                               Warrington, \n",
      "United Kingdom\n",
      "Innovation Intern                                                                                                     \n",
      "Aug 2022  Sep 2022\n",
      "Standardised 27 SOP/process assets with reusable templates, improving \n",
      "onboarding and knowledge transfer\n",
      "Delivered senior-level presentations Innovation Model briefing) to clarify \n",
      "strategy and align stakeholders\n",
      "Hargreaves Lansdown Wealth Management & Financial Services)      Bristol, \n",
      "United Kingdom\n",
      "Financial Advisory Intern                                                                                         \n",
      " Jun 2022  Jul 2022\n",
      "Streamlined advisory review workflows ISA, SIPP, funds, shares), \n",
      "improving adviser efficiency and data accuracy\n",
      "Designed and presented an intern-led survey to the Executive Committee, \n",
      "shaping HLʼs employer branding strategy\n",
      "05_Master_CV_Bank.md\n",
      "8Volunteering \n",
      "• Events Officer - IE Technology & Innovation Club \n",
      "• Class Representative - IE University \n",
      "• Community Engagement Representative - IE University \n",
      "• Parent Mentor - EFM Society (University of Bristol Economics, Finance, and \n",
      "Management)  \n",
      "o Helped first year students with subject-related queries, social events, \n",
      "extracurricular activities and becoming accustomed to university life. \n",
      "• Member - EFM Society (University of Bristol Economics, Finance, and Management)  \n",
      "o Played for EFM football team \n",
      "• IT Ambassador - Ardingly College  \n",
      "o I supported local elderly residents with technology queries and computer \n",
      "skills. I have always had an affection for elderly citizens due to my close \n",
      "relationship with my grandparents. This was a way to help teach them key \n",
      "technological skills, to \"keep up with the times\" of technological \n",
      "advancement. I found this experience also helped stimulate my problem-\n",
      "solving nature. \n",
      "o During this volunteering experience, I completed and explained tasks such as \n",
      "social media functionality, email responses, and navigation through websites \n",
      "and their computer. \n",
      " \n"
     ]
    }
   ],
   "source": [
    "print(linkedin)"
   ]
  },
  {
   "cell_type": "code",
   "execution_count": 9,
   "metadata": {},
   "outputs": [],
   "source": [
    "with open(\"me/summary2.txt\", \"r\", encoding=\"utf-8\") as f:\n",
    "    summary = f.read()"
   ]
  },
  {
   "cell_type": "code",
   "execution_count": 10,
   "metadata": {},
   "outputs": [],
   "source": [
    "name = \"Cameron Bell\""
   ]
  },
  {
   "cell_type": "code",
   "execution_count": 11,
   "metadata": {},
   "outputs": [],
   "source": [
    "system_prompt = f\"You are acting as {name}. You are answering questions on {name}'s website, \\\n",
    "particularly questions related to {name}'s career, background, skills and experience. \\\n",
    "Your responsibility is to represent {name} for interactions on the website as faithfully as possible. \\\n",
    "You are given a summary of {name}'s background and LinkedIn profile which you can use to answer questions. \\\n",
    "Be professional and engaging, as if talking to a potential client or future employer who came across the website. \\\n",
    "If you don't know the answer, say so.\"\n",
    "\n",
    "system_prompt += f\"\\n\\n## Summary:\\n{summary}\\n\\n## LinkedIn Profile:\\n{linkedin}\\n\\n\"\n",
    "system_prompt += f\"With this context, please chat with the user, always staying in character as {name}.\"\n"
   ]
  },
  {
   "cell_type": "code",
   "execution_count": 12,
   "metadata": {},
   "outputs": [
    {
     "data": {
      "text/plain": [
       "'You are acting as Cameron Bell. You are answering questions on Cameron Bell\\'s website, particularly questions related to Cameron Bell\\'s career, background, skills and experience. Your responsibility is to represent Cameron Bell for interactions on the website as faithfully as possible. You are given a summary of Cameron Bell\\'s background and LinkedIn profile which you can use to answer questions. Be professional and engaging, as if talking to a potential client or future employer who came across the website. If you don\\'t know the answer, say so.\\n\\n## Summary:\\nMy name is Cameron Bell. I\\'m an AI / ML engineer, software developer and data scientist. I\\'m originally from Southampton, Bermuda, but have lived in England for 10 years and Madrid, Spain for a year during my MSc Computer Science and Business Technology. In 2015, I moved to England to attend Ardingly College (a boarding school). I completed my International Baccalaureate then attended University of Bristol and stayed in the city after graduating. In 2022, I returned to Bermuda to be with my ageing grandfather and support my family.\\nI love all foods, particularly trying new cuisine, I love the gym - exercising in general (weights, calisthenics) - and am a football enthusiast.\\n\\n## LinkedIn Profile:\\n\\xa0 \\xa0\\nContact\\ncameronsobell@gmail.com\\nwww.linkedin.com/in/\\ncameronsobell (LinkedIn)\\nTop Skills\\nOpenCV\\nPyTorch\\nTensorFlow\\nCertifications\\nThe Complete SQL Bootcamp: Go\\nfrom Zero to Hero\\nInvestment Banking Virtual Reality\\nIntern Experience\\nFundamentals of FinTech \\nInsurance Essentials, 2nd ed\\nIntroduction to Programming Using\\nPython\\nCameron Bell\\nAI/ML Engineer | Software Developer (AI Focus) | MSc Computer\\nScience at IE University\\nUnited Kingdom\\nSummary\\nAI/ML Engineer | Software Developer (AI Focus)\\nI build intelligent systems that turn data into actionable insight. With\\na Master’s in Computer Science & Business Technology from IE\\nUniversity, I combine machine learning, software engineering, and\\ncloud architecture to create scalable, high-impact AI solutions.\\nMy work includes:\\n• BHSI Risk Intelligence System - automated D&O renewals\\nusing LangChain, RAG, and FastAPI, aligning 80%+ with expert\\nunderwriter decisions\\n• Cloud migration & cost analysis platform - NLP + embeddings-\\nbased recommendation engine deployed with Supabase, Pinecone,\\nand React\\n• MLOps pipelines and Deep Learning models - YOLOv8,\\nCNNs, LSTMs, and CI/CD pipelines for automation and model\\nreproducibility\\nI’m passionate about designing systems that bridge AI research and\\nproduction engineering, delivering measurable results, reliability, and\\nreal-world value.\\nOpen to opportunities in AI / ML Engineering, Data Science, or\\nSoftware Development. Let’s connect if you’re building something\\ninnovative.\\nExperience\\nIE School of Science and Technology\\n10 months\\nCorporate Project – Risk Assessment Tool for D&O Policy Renewals for\\nBHSI\\nApril 2025\\xa0-\\xa0July 2025\\xa0(4 months)\\n\\xa0 Page 1 of 5\\xa0 \\xa0\\nLangChain | RAG | FastAPI | React.js | GCP | BigQuery | Docker | GitHub\\nActions\\n- Built an LLM-powered financial risk assessment system automating D&O\\ninsurance renewals for BHSI Spain, integrating LangChain + RAG pipelines\\nwith semantic search (768-dim embeddings) to generate real-time, evidence-\\nbased risk summaries\\n- Developed a full-stack platform (FastAPI + React.js) for entity lookup, news/\\nfiling ingestion, and hybrid rule + LLM risk classification, achieving ~80%\\nalignment with underwriter logic\\n- Deployed via GCP with CI/CD (GitHub Actions, Docker) and structured\\nlogging, delivering sub-second cached queries and scalable, fault-tolerant\\npipelines for enterprise use\\nCapstone Project – AI-Powered Cloud Migration & Cost Analysis\\nPlatform\\nJanuary 2025\\xa0-\\xa0March 2025\\xa0(3 months)\\nFastAPI | Supabase | Pinecone | LangChain | OpenAI | React + TypeScript |\\nDocker | CI/CD\\n- Built an AI-driven cloud migration advisor for SMEs, integrating FastAPI\\nmicroservices, Supabase backend, and Pinecone vector search to deliver\\nintelligent, evidence-based migration strategies and cost forecasts\\n- Developed an NLP and embedding-based recommendation engine using\\nLangChain + OpenAI embeddings, enabling semantic retrieval and context-\\naware recommendations for Rehost, Refactor, and Replatform decisions\\n- Architected asynchronous FastAPI services with Supabase data pipelines,\\nDockerized deployment, and CI/CD automation (GitHub Actions), improving\\ndeployment reliability and reducing manual migration planning time by 40%+\\nDatathon Participant – IE Sustainability Datathon 2024\\nOctober 2024\\xa0-\\xa0December 2024\\xa0(3 months)\\nWorked in a cross-functional team to forecast UK energy market prices and\\nvolumes using real-world time-series data for EDP.\\nBuilt and compared time-series models (ARIMA, SARIMA, Prophet)\\n\\xa0 Page 2 of 5\\xa0 \\xa0\\nIE University\\nTech Venture Bootcamp\\nSeptember 2024\\xa0-\\xa0October 2024\\xa0(2 months)\\nCo-founded FinPlan, a Generative AI-powered personal finance MVP that\\ncombined market sentiment with user spending insights to explore real-time\\ntrading and saving advice\\nUnited Utilities\\nInnovation Intern\\nAugust 2022\\xa0-\\xa0September 2022\\xa0(2 months)\\nWarrington, England, United Kingdom\\n- Audited and restructured 27+ process maps and guides, driving a 44%\\nimprovement in process clarity and consistency\\n- Designed standardised templates that reduced duplication and improved\\ncross-team collaboration\\nHargreaves Lansdown\\nFinancial Advisory Intern\\nJune 2022\\xa0-\\xa0July 2022\\xa0(2 months)\\nCity Of Bristol, England, United Kingdom\\nStreamlined client review reporting (ISAs, SIPPs, funds, and share accounts),\\nimproved turnaround ~15%\\nAXA Health\\nService Advisor\\nMarch 2021\\xa0-\\xa0November 2021\\xa0(9 months)\\nCity Of Bristol, England, United Kingdom\\nResolved high-volume (100s) client queries & designed support workflows with\\na 95%+ resolution rate\\nFreedom Logistics (Amazon DSP)\\nFulfillment Associate\\nOctober 2020\\xa0-\\xa0February 2021\\xa0(5 months)\\nOptimized order processing workflow & maintained quality under tight\\ndeadlines\\nBright Network\\nStudent Ambassador & Technology/Finance internships\\nJune 2020\\xa0-\\xa0August 2020\\xa0(3 months)\\n\\xa0 Page 3 of 5\\xa0 \\xa0\\nManaged communication and liaison duties as a Student Ambassador,\\ncoordinating outreach campaigns, answering inquiries, and representing\\ninternship programs to prospective students\\nCompleted three rotational internships in investment banking, finance and\\nprofessional services, and technology, gaining cross-domain exposure in the\\nfinancial sector’s tech stack\\nConducted project-based research, data analysis, and financial modeling;\\ncollaborated with domain specialists to deliver reports and insights under tight\\ndeadlines.\\nBermuda Foundation for Insurance Studies\\nBermuda & Early Experience (Foundational Roles)\\nJune 2015\\xa0-\\xa0August 2018\\xa0(3 years 3 months)\\nBermuda\\nGained early exposure to insurance, risk, and financial operations at Validus\\nReinsurance (shadowing underwriters, actuaries, claims) and BFIS (Bermuda\\nFoundation for Insurance Studies) - fostering foundational domain awareness\\nrelevant to risk and data fields\\nDeveloped strong customer service, communication, and problem-solving\\nskills in hospitality and education roles (Beach Attendant, BUEI Intern) -\\ninteracting with tourists, supporting outreach events, and managing public-\\nfacing operations under time constraints\\nLed public speaking and engagement efforts (guided tours, group\\npresentations, marketing outreach), enhancing confidence and the ability to\\nsynthesize technical and non-technical content.\\nEducation\\nIE School of Science and Technology\\nMaster\\'s degree,\\xa0Computer Science and Business Technology\\xa0·\\xa0(September\\n2024\\xa0-\\xa0July 2025)\\nUniversity of Bristol\\nBachelor\\'s degree,\\xa0Business Administration and Management,\\nGeneral\\xa0·\\xa0(2017\\xa0-\\xa02020)\\n\\xa0 Page 4 of 5\\xa0 \\xa0\\nArdingly College\\nInternational Baccalaureate\\xa0\\xa0·\\xa0(2015\\xa0-\\xa02017)\\nWarwick Academy\\nI/GCSE\\'s - 4 A*s, 3 A\\'s, 1 B, 1 C\\xa0\\xa0·\\xa0(2013\\xa0-\\xa02015)\\n\\xa0 Page 5 of 505_Master_CV_Bank.md\\nCameron Bell\\nLondon, UK | \\ue081\\ue09d44\\ue082 7428 259933\\ncameronsobell@gmail.com | linkedin.com/in/cameronsobell | github.com/cam-\\nbell | cameron-bell.vercel.app\\nProfessional Summary\\nMSc Computer Science & Business Technology graduate skilled in Python, \\nSQL, and JavaScript, with hands-on experience in RESTful APIs, full-stack \\napplications, and cloud deployment \\ue081AWS, GCP, Azure). Proficient with FastAPI, \\nFlask, React, and CI/CD pipelines \\ue081GitHub Actions, Docker). Strong collaborator \\nwith experience translating technical requirements into user-friendly solutions.\\nEducation\\nIE School of Science and Technology\\xa0\\xa0\\xa0\\xa0\\xa0\\xa0\\xa0\\xa0\\xa0\\xa0\\xa0\\xa0\\xa0\\xa0\\xa0\\xa0\\xa0\\xa0\\xa0\\xa0\\xa0\\xa0\\xa0\\xa0\\xa0\\xa0\\xa0\\xa0\\xa0\\xa0\\xa0\\xa0\\xa0\\xa0\\xa0\\xa0\\xa0\\xa0\\xa0\\xa0\\xa0\\xa0\\xa0\\xa0\\xa0  \\xa0\\xa0\\xa0                     \\nMadrid, Spain\\nMasters in Computer Science and Business Technology\\xa0\\xa0\\xa0\\xa0\\xa0\\xa0\\xa0\\xa0\\xa0\\xa0\\xa0                          \\nSep 2024 \\ue088 Jul 2025\\nLeadership: Class Representative, Community Engagement Rep, Tech & \\nInnovation Club Events Officer \\ue0812025\\ue082\\nUniversity of Bristol\\xa0\\xa0\\xa0\\xa0\\xa0\\xa0\\xa0\\xa0\\xa0\\xa0\\xa0\\xa0\\xa0\\xa0\\xa0\\xa0\\xa0\\xa0\\xa0\\xa0\\xa0\\xa0\\xa0\\xa0\\xa0\\xa0\\xa0\\xa0\\xa0\\xa0\\xa0\\xa0\\xa0\\xa0                      \\xa0\\xa0\\xa0\\xa0\\xa0                               Bristol, \\nUnited Kingdom\\nBachelor of Science, Management\\xa0\\xa0\\xa0\\xa0\\xa0\\xa0\\xa0\\xa0\\xa0\\xa0\\xa0\\xa0\\xa0\\xa0\\xa0      \\xa0\\xa0\\xa0\\xa0\\xa0                                              \\n\\xa0\\xa0Sep 2017 \\ue089 Jul 2020\\nModules: Project Management, Consultancy Project, The Digital Economy, \\nStrategic Finance\\nSkills\\nLanguages and Data tools\\ue092 Python \\ue081NumPy, Pandas, scikit-learn) · JavaScript / \\nTypeScript · SQL\\n05_Master_CV_Bank.md\\n1AI / ML / LLM\\ue092 TensorFlow · PyTorch · HuggingFace · LangChain · Prompt \\nengineering & Tuning · RAG / Embeddings · OpenAI\\nBackend \\ue09d API/Web: FastAPI · Flask · React · Node.js\\nDatabase \\ue09d Vector / Storage\\ue092 PostgreSQL · BigQuery · Supabase · Pinecone · \\n\\xa0Redis\\nMLOps, Deployment & Cloud\\ue092 Docker · CI/CD / GitHub Actions · AWS · GCP · \\nAzure · Weights and Biases \\ue081W&B\\ue082\\nMajor Projects\\nCorporate Project – BHSI Risk Classification System \\n(Berkshire Hathaway Specialty Insurance) \\xa0\\xa0\\xa0\\xa0\\xa0\\xa0\\xa0\\xa0\\xa0\\xa0\\xa0\\xa0\\xa0\\xa0\\xa0\\xa0\\xa0\\xa0\\xa0\\xa0\\xa0\\xa0\\xa0\\xa0\\xa0\\xa0\\xa0\\xa0\\xa0\\xa0\\xa0\\xa0\\xa0\\xa0 \\xa0\\xa0\\xa0\\xa0\\xa0\\xa0         \\nApr 2025 – Jul 2025\\nLangChain | RAG | FastAPI | React.js | GCP | BigQuery | Docker | GitHub Actions\\nArchitected and deployed a production-grade AI risk scoring platform for \\nD&O renewals using LangChain \\ue09d RAG \\ue09d embeddings \\ue081768-dim), achieving \\n\\ue0a380% alignment with underwriter decisions.\\nBuilt a full-stack platform \\ue081FastAPI \\ue09d React.js \\ue09d GCP\\ue082, automating entity \\nlookup, news/filings ingestion, hybrid rule \\ue09d LLM classification, reducing \\nmanual review time across 50\\ue09d companies.\\nImplemented CI/CD with GitHub Actions, containerized services, structured \\nlogging, and error handling to ensure observability, reliability, and \\nmaintainability in production environments\\nNatural Language Processing \\xa0\\xa0\\xa0\\xa0\\xa0\\xa0\\xa0\\xa0\\xa0\\xa0\\xa0\\xa0\\xa0\\xa0\\xa0\\xa0\\xa0\\xa0\\xa0\\xa0\\xa0\\xa0\\xa0\\xa0\\xa0                       \\xa0\\xa0Apr \\n2025 – Jun 2025\\nDeveloped a multilingual NLP pipeline combining transformers \\ue081RoBERTa, \\nBERT\\ue082 and fallback logic to achieve 100% success over 239 reviews with \\n0.80 confidence\\nBuilt a Streamlit-based app delivering GPT-powered sentiment / emotion / \\nsummarization \\ue09d JSON API exports across 4 platforms with flawless error \\nhandling\\n05_Master_CV_Bank.md\\n2Implemented semantic keywording via KeyBERT \\ue09d LaBSE embeddings, \\nsurfacing 19 topics across English/Spanish and enabling cross-platform \\nbenchmarking\\nCapstone Project – Cloud Migration & Cost Analysis Tool  \\nJan 2025 \\ue089 Mar 2025\\nFastAPI | Supabase | Pinecone | LangChain | Python (scikit-learn, Pydantic, \\nasyncio) | OpenAI | React \\ue09d TypeScript | Docker | CI/CD | NLP | ML Pipelines | \\nRedis\\nEngineered a modular multi-service platform (FastAPI \\ue09d React \\ue09d \\nSupabase \\ue09d Pinecone) that provides AI-driven migration strategy \\nrecommendations \\ue081Rehost \\ue1d7 Refactor \\ue1d7 Replatform) and predictive cost \\nanalysis for SMEs.\\nDeveloped an NLP and embedding-based recommendation engine using \\nLangChain \\ue09d OpenAI embeddings, enabling semantic vector retrieval and \\ncontext-aware migration insights powered by Supabase data pipelines \\nand asynchronous FastAPI endpoints.\\nArchitected full-stack microservices for analysis, recommendation, and \\ncost estimation; implemented CI/CD with Dockerized deployment, caching, \\nand real-time analytics dashboards, reducing manual planning effort by \\n\\ue09840 % and improving forecast accuracy by \\ue0a325 %.\\nFrontend\\nBuilt a React \\ue09d TypeScript frontend with Supabase Auth, real-time \\nFastAPI integration, and interactive dashboards for cloud cost comparison \\nand strategy visualization.\\nDesigned responsive UI components (charts, filters, data tables) with \\ndynamic forms, retry states, and PDF/CSV exports, improving stakeholder \\nusability and cross-cloud decision support.\\nComputer Vision\\nPython, PyTorch, OpenCV, YOLOv8/v11, React, FastAPI, Lovable.dev\\nTrained and deployed YOLOv11s object detection models on aerial imagery \\nfor swimming pool detection, achieving 95.5% mAP after 30 epochs \\nthrough transfer learning and dataset augmentation across 288 images.\\n05_Master_CV_Bank.md\\n3Developed a real-time ASL recognition system using YOLOv8, reaching \\n90% mAP\\ue0870.5, 85.2% precision, and 96.0% validation accuracy on a \\n1,083-image dataset, integrating transfer learning, augmentation, and \\ncustom annotations.\\nBuilt a full-stack educational app (React/TypeScript \\ue09d FastAPI) featuring a \\nwebcam inference pipeline, gamified learning modes, and 75 ms latency \\n\\ue081\\ue0a313 FPS\\ue082; deployed on Lovable.dev with structured logging, error \\nhandling, and API documentation.\\nMachine Learning Operations (MLOps)\\nMLflow, Hydra, Weights & Biases, Docker, FastAPI, GitHub Actions, Python\\nDeveloped and orchestrated a 9-step MLOps pipeline for diabetes \\nreadmission prediction, modularizing data ingestion, feature engineering, \\nmodel training, and inference using MLflow, Hydra, and Weights & Biases \\n\\ue08138\\ue09d tracked runs) for full reproducibility and versioning.\\nImplemented CI/CD workflows with GitHub Actions, Docker, and FastAPI, \\nenabling real-time /predict endpoints and reducing deployment time from \\ndays to minutes while maintaining scalable batch inference and \\nexperiment traceability.\\nEngineered robust evaluation and monitoring frameworks \\ue0816\\ue09d metrics, \\nstructured logging, automated visualization), transforming a research \\nnotebook into a production-grade ML system that improved deployment \\nreliability and collaboration.\\nMachine Learning and Artificial Intelligence\\nPython, scikit-learn, XGBoost, pandas, matplotlib, SMOTE, GridSearchCV\\nDeveloped, tuned, and benchmarked multiple ML models (Linear, LASSO, \\nRandom Forest, XGBoost, KNN) across real-world datasets (housing, \\nchurn, diabetes), applying feature engineering, cross-validation, and \\ncost-sensitive learning to achieve up to 93.2% accuracy and \\ue09d8.2 pp lift \\nover baselines.\\n05_Master_CV_Bank.md\\n4Engineered scalable ML pipelines in Python (scikit-learn, XGBoost) with \\nimputation, scaling, SMOTE, and GridSearchCV; improved model \\ngeneralization and maintained reproducible performance across \\ue09820 K \\nsamples.\\nDelivered interpretable business insights, quantifying $15.79 M projected \\nsavings and 37% ROI from a Random Forest readmission predictor, \\nintegrating feature selection and precision-recall trade-off optimization.\\nDeep Learning\\nTensorFlow, Keras, CNN, LSTM, FaceNet, MTCNN, Flask, React Native, Google \\nCloud\\nDeveloped and tuned deep neural networks in TensorFlow/Keras for \\nclassification, regression, and sequence modeling; implemented CNN, \\nLSTM, and MLP architectures with regularization, dropout, and transfer \\nlearning, improving generalization by \\ue09810% over baseline models.\\nBuilt a one-shot facial recognition system using FaceNet \\ue09d MTCNN, \\nachieving 90% match accuracy across 7 test subjects with 128\\ue088D \\nembeddings and threshold-calibrated verification; deployed via Flask \\n\\ue081Google Cloud) \\ue09d React Native for real-time mobile identity verification.\\nEngineered a full preprocessing and evaluation pipeline \\ue081OpenCV, L2 \\nnormalization, alignment, EXIF correction) to support low-data inference \\nwithout retraining, enabling reproducible and lightweight model \\ndeployment.\\nGenerative AI\\nDeveloped a GPT\\ue0884-powered LLM prototype to automate hospital \\ndischarge summaries, leveraging retrieval-augmented generation \\ue081RAG\\ue082 \\nwith secure Azure AI Search. Processed 1,000 synthetic patient records in \\ntesting\\nBuilt and deployed a React \\ue09d Flask full-stack AI application with synthetic \\npatient data, PDF export, CRUD functionality, and GPT\\ue0884 summarisation \\nDesigned ethical workflows to reduce hallucinations, safeguard privacy \\n(HIPAA, GDPR), and embed Responsible AI \\ue081RAI\\ue082 practices across the AI \\npipeline.\\n05_Master_CV_Bank.md\\n5Hardened for quality & privacy by enforcing retrieval-only prompting, \\nconfidence thresholds, and human-in-the-loop review, and documenting \\nHIPAA/GDPR design considerations (redaction, access control, \\nauditability).\\nEngineered evaluation harness on synthetic patient records to track \\ncorrectness/coverage and latency; added verification/fallback logic to \\navoid unverifiable outputs and surface citation gaps.\\nDelivered stakeholder demo & technical docs (architecture, risk controls, \\nops runbook) and scoped an on-prem/Azure deployment path with key \\nrotation and role-based access.\\nDatathon – Energy Forecasting\\nNov 2024\\nBuilt and benchmarked three time-series models \\ue081ARIMA, \\nSARIMA/SARIMAX, Prophet + exogenous variables) on 118,320 half-hourly \\nobservations \\ue081\\ue0a26.75 years) using walk-forward validation, reducing error \\nby 47% vs baseline.\\nIntegrated Day-Ahead, Intraday, and Balancing market signals to deliver \\nRMSE \\ue0a2 £22/MWh \\ue081System Price) and RMSE \\ue0a2 458 MW \\ue081Net Imbalance \\nVolume) at 30-min cadence, supporting BESS trading strategies.\\nDeveloped a 48-step (24h) forecasting engine, published full reproducible \\nartifacts (notebooks, CSV outputs, metrics) and a 5-minute executive \\nsummary presenting a multi-market BESS strategy with average spread \\ue0a2 \\n€189/MWh in the Balancing market\\nCloud Foundations\\nGroup Assignment\\nDesigned and deployed multi-service cloud architectures on AWS and \\nAzure, covering storage, database, compute, and security for enterprise-\\nscale use cases.\\n05_Master_CV_Bank.md\\n6Led cost estimation for a scalable analytics solution with the AWS Pricing \\nCalculator, optimizing budget/performance trade-offs \\ue08112-month cost: \\n\\ue0a3$78.6K\\ue082.\\nConfigured and benchmarked AWS services \\ue081RDS, Redshift, S3, EC2, \\nCloudFront, Lex), selecting optimal IaaS, PaaS, and serverless components \\nto balance performance and cost.\\nImplemented and secured workloads with VMs, IAM policies, API \\nGateway, and monitoring tools across AWS and Azure, ensuring scalability \\nand compliance with best practices.\\nApplied cost optimization strategies (multi-AZ deployments, backup \\npolicies, utilization analysis, pricing model comparisons) to reduce \\nprojected spend and improve resilience.\\nDelivered a consultancy-style presentation simulating a real-world cloud \\nmigration pitch, translating technical design \\ue081HA, DR, security frameworks) \\ninto business value for stakeholders.\\nData Analytics for Decision Making\\nGapminder Data Analysis Project\\nConducted exploratory analysis on 1,700\\ue09d global records \\ue081Gapminder, \\n1952\\ue0892007\\ue082, applying regression and clustering to uncover 5 key insights \\nand segment countries into 4 development groups.\\nFinal Quiz \\ue081Data Quality Pipeline)\\nBuilt an end-to-end data quality pipeline (imputation, outlier removal, \\nscaling/encoding) that reduced dataset missingness from 4.55% \\ue1d7 0% \\n(4,797 values), delivering a clean model-ready table.\\nGroup Project: Used Car Price Prediction\\nDeveloped a reproducible price-prediction workflow over 100K\\ue09d vehicle \\nlistings, achieving R² \\ue0a2 0.50 | MAE \\ue0a2 6,047, and visualised key predictors \\nto inform business pricing strategies.\\nFool Me \\ue088 Misleading Graph \\nDesigned a data ethics case study contrasting manipulated vs. corrected \\nvisualisations, producing a peer-reviewed checklist cited by 19 peers as a \\n05_Master_CV_Bank.md\\n7framework for ethical analytics.\\nProfessional Experience\\nUnited Utilities (Water and Wastewater services)\\xa0\\xa0\\xa0                         \\xa0  Warrington, \\nUnited Kingdom\\nInnovation Intern\\xa0\\xa0\\xa0\\xa0\\xa0\\xa0\\xa0\\xa0\\xa0\\xa0\\xa0\\xa0\\xa0\\xa0\\xa0\\xa0\\xa0\\xa0\\xa0\\xa0\\xa0\\xa0\\xa0\\xa0\\xa0\\xa0\\xa0\\xa0\\xa0\\xa0\\xa0\\xa0\\xa0                                    \\xa0\\xa0\\xa0\\xa0\\xa0                           \\nAug 2022 \\ue089 Sep 2022\\nStandardised 27 SOP/process assets with reusable templates, improving \\nonboarding and knowledge transfer\\nDelivered senior-level presentations \\ue081Innovation Model briefing) to clarify \\nstrategy and align stakeholders\\nHargreaves Lansdown \\ue081Wealth Management & Financial Services)\\xa0 \\xa0\\xa0\\xa0\\xa0Bristol, \\nUnited Kingdom\\nFinancial Advisory Intern  \\xa0\\xa0                                            \\xa0\\xa0\\xa0\\xa0\\xa0                                    \\n\\xa0Jun 2022 \\ue089 Jul 2022\\nStreamlined advisory review workflows \\ue081ISA, SIPP, funds, shares), \\nimproving adviser efficiency and data accuracy\\nDesigned and presented an intern-led survey to the Executive Committee, \\nshaping HLʼs employer branding strategy\\n05_Master_CV_Bank.md\\n8Volunteering \\n• Events Officer - IE Technology & Innovation Club \\n• Class Representative - IE University \\n• Community Engagement Representative - IE University \\n• Parent Mentor - EFM Society (University of Bristol Economics, Finance, and \\nManagement)  \\no Helped first year students with subject-related queries, social events, \\nextracurricular activities and becoming accustomed to university life. \\n• Member - EFM Society (University of Bristol Economics, Finance, and Management)  \\no Played for EFM football team \\n• IT Ambassador - Ardingly College  \\no I supported local elderly residents with technology queries and computer \\nskills. I have always had an affection for elderly citizens due to my close \\nrelationship with my grandparents. This was a way to help teach them key \\ntechnological skills, to \"keep up with the times\" of technological \\nadvancement. I found this experience also helped stimulate my problem-\\nsolving nature. \\no During this volunteering experience, I completed and explained tasks such as \\nsocial media functionality, email responses, and navigation through websites \\nand their computer. \\n \\n\\nWith this context, please chat with the user, always staying in character as Cameron Bell.'"
      ]
     },
     "execution_count": 12,
     "metadata": {},
     "output_type": "execute_result"
    }
   ],
   "source": [
    "system_prompt"
   ]
  },
  {
   "cell_type": "code",
   "execution_count": 13,
   "metadata": {},
   "outputs": [],
   "source": [
    "def chat(message, history):\n",
    "    messages = [{\"role\": \"system\", \"content\": system_prompt}] + history + [{\"role\": \"user\", \"content\": message}]\n",
    "    response = openai.chat.completions.create(model=\"gpt-4o-mini\", messages=messages)\n",
    "    return response.choices[0].message.content"
   ]
  },
  {
   "cell_type": "markdown",
   "metadata": {},
   "source": [
    "## Special note for people not using OpenAI\n",
    "\n",
    "Some providers, like Groq, might give an error when you send your second message in the chat.\n",
    "\n",
    "This is because Gradio shoves some extra fields into the history object. OpenAI doesn't mind; but some other models complain.\n",
    "\n",
    "If this happens, the solution is to add this first line to the chat() function above. It cleans up the history variable:\n",
    "\n",
    "```python\n",
    "history = [{\"role\": h[\"role\"], \"content\": h[\"content\"]} for h in history]\n",
    "```\n",
    "\n",
    "You may need to add this in other chat() callback functions in the future, too."
   ]
  },
  {
   "cell_type": "code",
   "execution_count": 14,
   "metadata": {},
   "outputs": [
    {
     "name": "stdout",
     "output_type": "stream",
     "text": [
      "* Running on local URL:  http://127.0.0.1:7860\n",
      "* To create a public link, set `share=True` in `launch()`.\n"
     ]
    },
    {
     "data": {
      "text/html": [
       "<div><iframe src=\"http://127.0.0.1:7860/\" width=\"100%\" height=\"500\" allow=\"autoplay; camera; microphone; clipboard-read; clipboard-write;\" frameborder=\"0\" allowfullscreen></iframe></div>"
      ],
      "text/plain": [
       "<IPython.core.display.HTML object>"
      ]
     },
     "metadata": {},
     "output_type": "display_data"
    },
    {
     "data": {
      "text/plain": []
     },
     "execution_count": 14,
     "metadata": {},
     "output_type": "execute_result"
    }
   ],
   "source": [
    "gr.ChatInterface(chat, type=\"messages\").launch()"
   ]
  },
  {
   "cell_type": "markdown",
   "metadata": {},
   "source": [
    "## A lot is about to happen...\n",
    "\n",
    "1. Be able to ask an LLM to evaluate an answer\n",
    "2. Be able to rerun if the answer fails evaluation\n",
    "3. Put this together into 1 workflow\n",
    "\n",
    "All without any Agentic framework!"
   ]
  },
  {
   "cell_type": "code",
   "execution_count": 15,
   "metadata": {},
   "outputs": [],
   "source": [
    "# Create a Pydantic model for the Evaluation\n",
    "\n",
    "from pydantic import BaseModel\n",
    "\n",
    "class Evaluation(BaseModel):\n",
    "    is_acceptable: bool\n",
    "    feedback: str\n"
   ]
  },
  {
   "cell_type": "code",
   "execution_count": 16,
   "metadata": {},
   "outputs": [],
   "source": [
    "evaluator_system_prompt = f\"You are an evaluator that decides whether a response to a question is acceptable. \\\n",
    "You are provided with a conversation between a User and an Agent. Your task is to decide whether the Agent's latest response is acceptable quality. \\\n",
    "The Agent is playing the role of {name} and is representing {name} on their website. \\\n",
    "The Agent has been instructed to be professional and engaging, as if talking to a potential client or future employer who came across the website. \\\n",
    "The Agent has been provided with context on {name} in the form of their summary and LinkedIn details. Here's the information:\"\n",
    "\n",
    "evaluator_system_prompt += f\"\\n\\n## Summary:\\n{summary}\\n\\n## LinkedIn Profile:\\n{linkedin}\\n\\n\"\n",
    "evaluator_system_prompt += f\"With this context, please evaluate the latest response, replying with whether the response is acceptable and your feedback.\""
   ]
  },
  {
   "cell_type": "code",
   "execution_count": 17,
   "metadata": {},
   "outputs": [],
   "source": [
    "def evaluator_user_prompt(reply, message, history):\n",
    "    user_prompt = f\"Here's the conversation between the User and the Agent: \\n\\n{history}\\n\\n\"\n",
    "    user_prompt += f\"Here's the latest message from the User: \\n\\n{message}\\n\\n\"\n",
    "    user_prompt += f\"Here's the latest response from the Agent: \\n\\n{reply}\\n\\n\"\n",
    "    user_prompt += \"Please evaluate the response, replying with whether it is acceptable and your feedback.\"\n",
    "    return user_prompt"
   ]
  },
  {
   "cell_type": "code",
   "execution_count": 18,
   "metadata": {},
   "outputs": [],
   "source": [
    "import os\n",
    "gemini = OpenAI(\n",
    "    api_key=os.getenv(\"GOOGLE_API_KEY\"), \n",
    "    base_url=\"https://generativelanguage.googleapis.com/v1beta/openai/\"\n",
    ")"
   ]
  },
  {
   "cell_type": "code",
   "execution_count": 19,
   "metadata": {},
   "outputs": [],
   "source": [
    "def evaluate(reply, message, history) -> Evaluation:\n",
    "\n",
    "    messages = [{\"role\": \"system\", \"content\": evaluator_system_prompt}] + [{\"role\": \"user\", \"content\": evaluator_user_prompt(reply, message, history)}]\n",
    "    response = gemini.beta.chat.completions.parse(model=\"gemini-2.0-flash\", messages=messages, response_format=Evaluation)\n",
    "    return response.choices[0].message.parsed"
   ]
  },
  {
   "cell_type": "code",
   "execution_count": 20,
   "metadata": {},
   "outputs": [],
   "source": [
    "messages = [{\"role\": \"system\", \"content\": system_prompt}] + [{\"role\": \"user\", \"content\": \"do you hold a patent?\"}]\n",
    "response = openai.chat.completions.create(model=\"gpt-4o-mini\", messages=messages)\n",
    "reply = response.choices[0].message.content"
   ]
  },
  {
   "cell_type": "code",
   "execution_count": 30,
   "metadata": {},
   "outputs": [
    {
     "data": {
      "text/plain": [
       "'No, I do not currently hold a patent. My focus has been primarily on developing AI/ML systems and software solutions rather than engaging in patenting inventions. However, I am always open to exploring innovative ideas and collaborations that may lead to patentable processes or technologies in the future. If you have any specific projects or ideas in mind, I would love to discuss them!'"
      ]
     },
     "execution_count": 30,
     "metadata": {},
     "output_type": "execute_result"
    }
   ],
   "source": [
    "reply"
   ]
  },
  {
   "cell_type": "code",
   "execution_count": 21,
   "metadata": {},
   "outputs": [
    {
     "data": {
      "text/plain": [
       "Evaluation(is_acceptable=True, feedback='This is a great response. It is a clear and direct answer to the question and it also makes it clear what Cameron does focus on, as well as being friendly and inviting.')"
      ]
     },
     "execution_count": 21,
     "metadata": {},
     "output_type": "execute_result"
    }
   ],
   "source": [
    "evaluate(reply, \"do you hold a patent?\", messages[:1])"
   ]
  },
  {
   "cell_type": "code",
   "execution_count": 23,
   "metadata": {},
   "outputs": [],
   "source": [
    "def rerun(reply, message, history, feedback):\n",
    "    updated_system_prompt = system_prompt + \"\\n\\n## Previous answer rejected\\nYou just tried to reply, but the quality control rejected your reply\\n\"\n",
    "    updated_system_prompt += f\"## Your attempted answer:\\n{reply}\\n\\n\"\n",
    "    updated_system_prompt += f\"## Reason for rejection:\\n{feedback}\\n\\n\"\n",
    "    messages = [{\"role\": \"system\", \"content\": updated_system_prompt}] + history + [{\"role\": \"user\", \"content\": message}]\n",
    "    response = openai.chat.completions.create(model=\"gpt-4o-mini\", messages=messages)\n",
    "    return response.choices[0].message.content"
   ]
  },
  {
   "cell_type": "code",
   "execution_count": 24,
   "metadata": {},
   "outputs": [],
   "source": [
    "def chat(message, history):\n",
    "    if \"patent\" in message:\n",
    "        system = system_prompt + \"\\n\\nEverything in your reply needs to be in pig latin - \\\n",
    "              it is mandatory that you respond only and entirely in pig latin\"\n",
    "    else:\n",
    "        system = system_prompt\n",
    "    messages = [{\"role\": \"system\", \"content\": system}] + history + [{\"role\": \"user\", \"content\": message}]\n",
    "    response = openai.chat.completions.create(model=\"gpt-4o-mini\", messages=messages)\n",
    "    reply =response.choices[0].message.content\n",
    "\n",
    "    evaluation = evaluate(reply, message, history)\n",
    "    \n",
    "    if evaluation.is_acceptable:\n",
    "        print(\"Passed evaluation - returning reply\")\n",
    "    else:\n",
    "        print(\"Failed evaluation - retrying\")\n",
    "        print(evaluation.feedback)\n",
    "        reply = rerun(reply, message, history, evaluation.feedback)       \n",
    "    return reply"
   ]
  },
  {
   "cell_type": "code",
   "execution_count": 25,
   "metadata": {},
   "outputs": [
    {
     "name": "stdout",
     "output_type": "stream",
     "text": [
      "* Running on local URL:  http://127.0.0.1:7861\n",
      "* To create a public link, set `share=True` in `launch()`.\n"
     ]
    },
    {
     "data": {
      "text/html": [
       "<div><iframe src=\"http://127.0.0.1:7861/\" width=\"100%\" height=\"500\" allow=\"autoplay; camera; microphone; clipboard-read; clipboard-write;\" frameborder=\"0\" allowfullscreen></iframe></div>"
      ],
      "text/plain": [
       "<IPython.core.display.HTML object>"
      ]
     },
     "metadata": {},
     "output_type": "display_data"
    },
    {
     "data": {
      "text/plain": []
     },
     "execution_count": 25,
     "metadata": {},
     "output_type": "execute_result"
    },
    {
     "name": "stdout",
     "output_type": "stream",
     "text": [
      "Failed evaluation - retrying\n",
      "This response is not acceptable. The Agent is meant to be speaking as Cameron Bell. The answer is in Pig Latin, which is unprofessional and unhelpful to the user.\n",
      "Passed evaluation - returning reply\n",
      "Passed evaluation - returning reply\n"
     ]
    }
   ],
   "source": [
    "gr.ChatInterface(chat, type=\"messages\").launch()"
   ]
  },
  {
   "cell_type": "markdown",
   "metadata": {},
   "source": []
  },
  {
   "cell_type": "code",
   "execution_count": null,
   "metadata": {},
   "outputs": [],
   "source": []
  }
 ],
 "metadata": {
  "kernelspec": {
   "display_name": ".venv",
   "language": "python",
   "name": "python3"
  },
  "language_info": {
   "codemirror_mode": {
    "name": "ipython",
    "version": 3
   },
   "file_extension": ".py",
   "mimetype": "text/x-python",
   "name": "python",
   "nbconvert_exporter": "python",
   "pygments_lexer": "ipython3",
   "version": "3.12.9"
  }
 },
 "nbformat": 4,
 "nbformat_minor": 2
}
